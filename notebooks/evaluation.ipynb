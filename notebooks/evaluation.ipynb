{
 "cells": [
  {
   "cell_type": "code",
   "execution_count": 1,
   "metadata": {},
   "outputs": [],
   "source": [
    "import polars as pl"
   ]
  },
  {
   "cell_type": "code",
   "execution_count": 3,
   "metadata": {},
   "outputs": [
    {
     "data": {
      "text/html": [
       "<div><style>\n",
       ".dataframe > thead > tr,\n",
       ".dataframe > tbody > tr {\n",
       "  text-align: right;\n",
       "  white-space: pre-wrap;\n",
       "}\n",
       "</style>\n",
       "<small>shape: (4, 12)</small><table border=\"1\" class=\"dataframe\"><thead><tr><th>llm_answer</th><th>n_tokens</th><th>boxed_answer</th><th>parsed_answer</th><th>temperature</th><th>top_p</th><th>min_p</th><th>q_id</th><th>question</th><th>gt_answer</th><th>elapsed</th><th>tok_per_sec</th></tr><tr><td>str</td><td>i64</td><td>str</td><td>i64</td><td>f64</td><td>f64</td><td>f64</td><td>str</td><td>str</td><td>i64</td><td>f64</td><td>f64</td></tr></thead><tbody><tr><td>&quot;&lt;think&gt;\n",
       "Okay, so Alice writes …</td><td>4293</td><td>&quot;902&quot;</td><td>902</td><td>1.0</td><td>0.9</td><td>0.1</td><td>&quot;bbd91e&quot;</td><td>&quot;Alice writes all positive inte…</td><td>902</td><td>114.189296</td><td>37.595468</td></tr><tr><td>&quot;&lt;think&gt;\n",
       "Okay, so Alice writes …</td><td>4293</td><td>&quot;902&quot;</td><td>902</td><td>1.0</td><td>0.9</td><td>0.1</td><td>&quot;bbd91e&quot;</td><td>&quot;Alice writes all positive inte…</td><td>902</td><td>114.55371</td><td>37.47587</td></tr><tr><td>&quot;&lt;think&gt;\n",
       "Alright, so here&#x27;s thi…</td><td>4995</td><td>&quot;902&quot;</td><td>902</td><td>1.0</td><td>0.9</td><td>0.1</td><td>&quot;bbd91e&quot;</td><td>&quot;Alice writes all positive inte…</td><td>902</td><td>135.144155</td><td>36.960533</td></tr><tr><td>&quot;&lt;think&gt;\n",
       "Alright, so here&#x27;s thi…</td><td>4995</td><td>&quot;902&quot;</td><td>902</td><td>1.0</td><td>0.9</td><td>0.1</td><td>&quot;bbd91e&quot;</td><td>&quot;Alice writes all positive inte…</td><td>902</td><td>135.565553</td><td>36.845643</td></tr></tbody></table></div>"
      ],
      "text/plain": [
       "shape: (4, 12)\n",
       "┌───────────┬──────────┬───────────┬───────────┬───┬───────────┬───────────┬───────────┬───────────┐\n",
       "│ llm_answe ┆ n_tokens ┆ boxed_ans ┆ parsed_an ┆ … ┆ question  ┆ gt_answer ┆ elapsed   ┆ tok_per_s │\n",
       "│ r         ┆ ---      ┆ wer       ┆ swer      ┆   ┆ ---       ┆ ---       ┆ ---       ┆ ec        │\n",
       "│ ---       ┆ i64      ┆ ---       ┆ ---       ┆   ┆ str       ┆ i64       ┆ f64       ┆ ---       │\n",
       "│ str       ┆          ┆ str       ┆ i64       ┆   ┆           ┆           ┆           ┆ f64       │\n",
       "╞═══════════╪══════════╪═══════════╪═══════════╪═══╪═══════════╪═══════════╪═══════════╪═══════════╡\n",
       "│ <think>   ┆ 4293     ┆ 902       ┆ 902       ┆ … ┆ Alice     ┆ 902       ┆ 114.18929 ┆ 37.595468 │\n",
       "│ Okay, so  ┆          ┆           ┆           ┆   ┆ writes    ┆           ┆ 6         ┆           │\n",
       "│ Alice     ┆          ┆           ┆           ┆   ┆ all       ┆           ┆           ┆           │\n",
       "│ writes …  ┆          ┆           ┆           ┆   ┆ positive  ┆           ┆           ┆           │\n",
       "│           ┆          ┆           ┆           ┆   ┆ inte…     ┆           ┆           ┆           │\n",
       "│ <think>   ┆ 4293     ┆ 902       ┆ 902       ┆ … ┆ Alice     ┆ 902       ┆ 114.55371 ┆ 37.47587  │\n",
       "│ Okay, so  ┆          ┆           ┆           ┆   ┆ writes    ┆           ┆           ┆           │\n",
       "│ Alice     ┆          ┆           ┆           ┆   ┆ all       ┆           ┆           ┆           │\n",
       "│ writes …  ┆          ┆           ┆           ┆   ┆ positive  ┆           ┆           ┆           │\n",
       "│           ┆          ┆           ┆           ┆   ┆ inte…     ┆           ┆           ┆           │\n",
       "│ <think>   ┆ 4995     ┆ 902       ┆ 902       ┆ … ┆ Alice     ┆ 902       ┆ 135.14415 ┆ 36.960533 │\n",
       "│ Alright,  ┆          ┆           ┆           ┆   ┆ writes    ┆           ┆ 5         ┆           │\n",
       "│ so here's ┆          ┆           ┆           ┆   ┆ all       ┆           ┆           ┆           │\n",
       "│ thi…      ┆          ┆           ┆           ┆   ┆ positive  ┆           ┆           ┆           │\n",
       "│           ┆          ┆           ┆           ┆   ┆ inte…     ┆           ┆           ┆           │\n",
       "│ <think>   ┆ 4995     ┆ 902       ┆ 902       ┆ … ┆ Alice     ┆ 902       ┆ 135.56555 ┆ 36.845643 │\n",
       "│ Alright,  ┆          ┆           ┆           ┆   ┆ writes    ┆           ┆ 3         ┆           │\n",
       "│ so here's ┆          ┆           ┆           ┆   ┆ all       ┆           ┆           ┆           │\n",
       "│ thi…      ┆          ┆           ┆           ┆   ┆ positive  ┆           ┆           ┆           │\n",
       "│           ┆          ┆           ┆           ┆   ┆ inte…     ┆           ┆           ┆           │\n",
       "└───────────┴──────────┴───────────┴───────────┴───┴───────────┴───────────┴───────────┴───────────┘"
      ]
     },
     "execution_count": 3,
     "metadata": {},
     "output_type": "execute_result"
    }
   ],
   "source": [
    "mine = pl.read_json(\"../experiments/majority_voting_kaggle.json\")\n",
    "mine.head(4)"
   ]
  },
  {
   "cell_type": "code",
   "execution_count": 4,
   "metadata": {},
   "outputs": [
    {
     "data": {
      "text/html": [
       "<div><style>\n",
       ".dataframe > thead > tr,\n",
       ".dataframe > tbody > tr {\n",
       "  text-align: right;\n",
       "  white-space: pre-wrap;\n",
       "}\n",
       "</style>\n",
       "<small>shape: (145, 12)</small><table border=\"1\" class=\"dataframe\"><thead><tr><th>llm_answer</th><th>n_tokens</th><th>boxed_answer</th><th>parsed_answer</th><th>temperature</th><th>top_p</th><th>min_p</th><th>q_id</th><th>question</th><th>gt_answer</th><th>elapsed</th><th>tok_per_sec</th></tr><tr><td>str</td><td>i64</td><td>str</td><td>i64</td><td>f64</td><td>f64</td><td>f64</td><td>str</td><td>str</td><td>i64</td><td>f64</td><td>f64</td></tr></thead><tbody><tr><td>&quot;&lt;think&gt;\n",
       "Alright, so I&#x27;ve come …</td><td>2650</td><td>&quot;201&quot;</td><td>201</td><td>1.0</td><td>0.9</td><td>0.1</td><td>&quot;a1d40b&quot;</td><td>&quot;The Fibonacci numbers are defi…</td><td>201</td><td>66.584357</td><td>39.799138</td></tr><tr><td>&quot;&lt;think&gt;\n",
       "Okay, let me try to fi…</td><td>2966</td><td>&quot;143&quot;</td><td>143</td><td>1.0</td><td>0.9</td><td>0.1</td><td>&quot;1fce4b&quot;</td><td>&quot;Find the three-digit number $n…</td><td>143</td><td>75.123234</td><td>39.481793</td></tr><tr><td>&quot;&lt;think&gt;\n",
       "Okay, so I have this p…</td><td>3181</td><td>&quot;143&quot;</td><td>143</td><td>1.0</td><td>0.9</td><td>0.1</td><td>&quot;1fce4b&quot;</td><td>&quot;Find the three-digit number $n…</td><td>143</td><td>81.262313</td><td>39.144837</td></tr><tr><td>&quot;&lt;think&gt;\n",
       "Okay, so I have this p…</td><td>3341</td><td>&quot;101&quot;</td><td>101</td><td>1.0</td><td>0.9</td><td>0.1</td><td>&quot;1fce4b&quot;</td><td>&quot;Find the three-digit number $n…</td><td>143</td><td>85.361686</td><td>39.139339</td></tr><tr><td>&quot;&lt;think&gt;\n",
       "Okay, so I&#x27;ve got this…</td><td>3672</td><td>&quot;143&quot;</td><td>143</td><td>1.0</td><td>0.9</td><td>0.1</td><td>&quot;1fce4b&quot;</td><td>&quot;Find the three-digit number $n…</td><td>143</td><td>94.901021</td><td>38.692945</td></tr><tr><td>&hellip;</td><td>&hellip;</td><td>&hellip;</td><td>&hellip;</td><td>&hellip;</td><td>&hellip;</td><td>&hellip;</td><td>&hellip;</td><td>&hellip;</td><td>&hellip;</td><td>&hellip;</td><td>&hellip;</td></tr><tr><td>&quot;&lt;think&gt;\n",
       "Okay, so I have this p…</td><td>12007</td><td>&quot;900&quot;</td><td>900</td><td>1.0</td><td>0.9</td><td>0.1</td><td>&quot;71beb6&quot;</td><td>&quot;For a positive integer $n$, le…</td><td>891</td><td>393.936736</td><td>30.479513</td></tr><tr><td>&quot;&lt;think&gt;\n",
       "Okay, so I have this p…</td><td>12011</td><td>&quot;99&quot;</td><td>99</td><td>1.0</td><td>0.9</td><td>0.1</td><td>&quot;057f8a&quot;</td><td>&quot;Three airline companies operat…</td><td>79</td><td>390.546812</td><td>30.754316</td></tr><tr><td>&quot;&lt;think&gt;\n",
       "Alright, so I need to …</td><td>12062</td><td>&quot;0&quot;</td><td>0</td><td>1.0</td><td>0.9</td><td>0.1</td><td>&quot;88c219&quot;</td><td>&quot;For positive integers $x_1,\\ld…</td><td>810</td><td>411.004578</td><td>29.347605</td></tr><tr><td>&quot;&lt;think&gt;\n",
       "Okay, so I have this p…</td><td>12081</td><td>&quot;891&quot;</td><td>891</td><td>1.0</td><td>0.9</td><td>0.1</td><td>&quot;71beb6&quot;</td><td>&quot;For a positive integer $n$, le…</td><td>891</td><td>364.504479</td><td>33.143626</td></tr><tr><td>&quot;&lt;think&gt;\n",
       "Okay, so I&#x27;ve got this…</td><td>12101</td><td>&quot;40&quot;</td><td>40</td><td>1.0</td><td>0.9</td><td>0.1</td><td>&quot;057f8a&quot;</td><td>&quot;Three airline companies operat…</td><td>79</td><td>392.86444</td><td>30.801973</td></tr></tbody></table></div>"
      ],
      "text/plain": [
       "shape: (145, 12)\n",
       "┌───────────┬──────────┬───────────┬───────────┬───┬───────────┬───────────┬───────────┬───────────┐\n",
       "│ llm_answe ┆ n_tokens ┆ boxed_ans ┆ parsed_an ┆ … ┆ question  ┆ gt_answer ┆ elapsed   ┆ tok_per_s │\n",
       "│ r         ┆ ---      ┆ wer       ┆ swer      ┆   ┆ ---       ┆ ---       ┆ ---       ┆ ec        │\n",
       "│ ---       ┆ i64      ┆ ---       ┆ ---       ┆   ┆ str       ┆ i64       ┆ f64       ┆ ---       │\n",
       "│ str       ┆          ┆ str       ┆ i64       ┆   ┆           ┆           ┆           ┆ f64       │\n",
       "╞═══════════╪══════════╪═══════════╪═══════════╪═══╪═══════════╪═══════════╪═══════════╪═══════════╡\n",
       "│ <think>   ┆ 2650     ┆ 201       ┆ 201       ┆ … ┆ The       ┆ 201       ┆ 66.584357 ┆ 39.799138 │\n",
       "│ Alright,  ┆          ┆           ┆           ┆   ┆ Fibonacci ┆           ┆           ┆           │\n",
       "│ so I've   ┆          ┆           ┆           ┆   ┆ numbers   ┆           ┆           ┆           │\n",
       "│ come …    ┆          ┆           ┆           ┆   ┆ are defi… ┆           ┆           ┆           │\n",
       "│ <think>   ┆ 2966     ┆ 143       ┆ 143       ┆ … ┆ Find the  ┆ 143       ┆ 75.123234 ┆ 39.481793 │\n",
       "│ Okay, let ┆          ┆           ┆           ┆   ┆ three-dig ┆           ┆           ┆           │\n",
       "│ me try to ┆          ┆           ┆           ┆   ┆ it number ┆           ┆           ┆           │\n",
       "│ fi…       ┆          ┆           ┆           ┆   ┆ $n…       ┆           ┆           ┆           │\n",
       "│ <think>   ┆ 3181     ┆ 143       ┆ 143       ┆ … ┆ Find the  ┆ 143       ┆ 81.262313 ┆ 39.144837 │\n",
       "│ Okay, so  ┆          ┆           ┆           ┆   ┆ three-dig ┆           ┆           ┆           │\n",
       "│ I have    ┆          ┆           ┆           ┆   ┆ it number ┆           ┆           ┆           │\n",
       "│ this p…   ┆          ┆           ┆           ┆   ┆ $n…       ┆           ┆           ┆           │\n",
       "│ <think>   ┆ 3341     ┆ 101       ┆ 101       ┆ … ┆ Find the  ┆ 143       ┆ 85.361686 ┆ 39.139339 │\n",
       "│ Okay, so  ┆          ┆           ┆           ┆   ┆ three-dig ┆           ┆           ┆           │\n",
       "│ I have    ┆          ┆           ┆           ┆   ┆ it number ┆           ┆           ┆           │\n",
       "│ this p…   ┆          ┆           ┆           ┆   ┆ $n…       ┆           ┆           ┆           │\n",
       "│ <think>   ┆ 3672     ┆ 143       ┆ 143       ┆ … ┆ Find the  ┆ 143       ┆ 94.901021 ┆ 38.692945 │\n",
       "│ Okay, so  ┆          ┆           ┆           ┆   ┆ three-dig ┆           ┆           ┆           │\n",
       "│ I've got  ┆          ┆           ┆           ┆   ┆ it number ┆           ┆           ┆           │\n",
       "│ this…     ┆          ┆           ┆           ┆   ┆ $n…       ┆           ┆           ┆           │\n",
       "│ …         ┆ …        ┆ …         ┆ …         ┆ … ┆ …         ┆ …         ┆ …         ┆ …         │\n",
       "│ <think>   ┆ 12007    ┆ 900       ┆ 900       ┆ … ┆ For a     ┆ 891       ┆ 393.93673 ┆ 30.479513 │\n",
       "│ Okay, so  ┆          ┆           ┆           ┆   ┆ positive  ┆           ┆ 6         ┆           │\n",
       "│ I have    ┆          ┆           ┆           ┆   ┆ integer   ┆           ┆           ┆           │\n",
       "│ this p…   ┆          ┆           ┆           ┆   ┆ $n$, le…  ┆           ┆           ┆           │\n",
       "│ <think>   ┆ 12011    ┆ 99        ┆ 99        ┆ … ┆ Three     ┆ 79        ┆ 390.54681 ┆ 30.754316 │\n",
       "│ Okay, so  ┆          ┆           ┆           ┆   ┆ airline   ┆           ┆ 2         ┆           │\n",
       "│ I have    ┆          ┆           ┆           ┆   ┆ companies ┆           ┆           ┆           │\n",
       "│ this p…   ┆          ┆           ┆           ┆   ┆ operat…   ┆           ┆           ┆           │\n",
       "│ <think>   ┆ 12062    ┆ 0         ┆ 0         ┆ … ┆ For       ┆ 810       ┆ 411.00457 ┆ 29.347605 │\n",
       "│ Alright,  ┆          ┆           ┆           ┆   ┆ positive  ┆           ┆ 8         ┆           │\n",
       "│ so I need ┆          ┆           ┆           ┆   ┆ integers  ┆           ┆           ┆           │\n",
       "│ to …      ┆          ┆           ┆           ┆   ┆ $x_1,\\ld… ┆           ┆           ┆           │\n",
       "│ <think>   ┆ 12081    ┆ 891       ┆ 891       ┆ … ┆ For a     ┆ 891       ┆ 364.50447 ┆ 33.143626 │\n",
       "│ Okay, so  ┆          ┆           ┆           ┆   ┆ positive  ┆           ┆ 9         ┆           │\n",
       "│ I have    ┆          ┆           ┆           ┆   ┆ integer   ┆           ┆           ┆           │\n",
       "│ this p…   ┆          ┆           ┆           ┆   ┆ $n$, le…  ┆           ┆           ┆           │\n",
       "│ <think>   ┆ 12101    ┆ 40        ┆ 40        ┆ … ┆ Three     ┆ 79        ┆ 392.86444 ┆ 30.801973 │\n",
       "│ Okay, so  ┆          ┆           ┆           ┆   ┆ airline   ┆           ┆           ┆           │\n",
       "│ I've got  ┆          ┆           ┆           ┆   ┆ companies ┆           ┆           ┆           │\n",
       "│ this…     ┆          ┆           ┆           ┆   ┆ operat…   ┆           ┆           ┆           │\n",
       "└───────────┴──────────┴───────────┴───────────┴───┴───────────┴───────────┴───────────┴───────────┘"
      ]
     },
     "execution_count": 4,
     "metadata": {},
     "output_type": "execute_result"
    }
   ],
   "source": [
    "mine.sort(\"n_tokens\")"
   ]
  },
  {
   "cell_type": "code",
   "execution_count": null,
   "metadata": {},
   "outputs": [],
   "source": []
  },
  {
   "cell_type": "code",
   "execution_count": null,
   "metadata": {},
   "outputs": [],
   "source": []
  },
  {
   "cell_type": "code",
   "execution_count": null,
   "metadata": {},
   "outputs": [],
   "source": []
  }
 ],
 "metadata": {
  "kernelspec": {
   "display_name": ".venv",
   "language": "python",
   "name": "python3"
  },
  "language_info": {
   "codemirror_mode": {
    "name": "ipython",
    "version": 3
   },
   "file_extension": ".py",
   "mimetype": "text/x-python",
   "name": "python",
   "nbconvert_exporter": "python",
   "pygments_lexer": "ipython3",
   "version": "3.10.12"
  }
 },
 "nbformat": 4,
 "nbformat_minor": 2
}
