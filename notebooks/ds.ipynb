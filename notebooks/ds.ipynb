{
 "cells": [
  {
   "cell_type": "code",
   "execution_count": 63,
   "metadata": {},
   "outputs": [],
   "source": [
    "from datasets import load_dataset\n",
    "from openai import OpenAI\n",
    "from transformers import AutoTokenizer"
   ]
  },
  {
   "cell_type": "code",
   "execution_count": 10,
   "metadata": {},
   "outputs": [],
   "source": [
    "\n",
    "aime = load_dataset(\"AI-MO/aimo-validation-aime\", split=\"train\")\n",
    "amc = load_dataset(\"AI-MO/aimo-validation-amc\", split=\"train\")\n",
    "math4 = load_dataset(\"AI-MO/aimo-validation-math-level-4\", split=\"train\")\n",
    "math5 = load_dataset(\"AI-MO/aimo-validation-math-level-5\", split=\"train\")"
   ]
  },
  {
   "cell_type": "code",
   "execution_count": null,
   "metadata": {},
   "outputs": [],
   "source": [
    "aime, amc, math4, math5"
   ]
  },
  {
   "cell_type": "code",
   "execution_count": null,
   "metadata": {},
   "outputs": [],
   "source": [
    "d = math4[0]\n",
    "print(d[\"id\"], end=\"\\n🔥\\n\")\n",
    "print(d[\"problem\"], end=\"\\n🔥\\n\")\n",
    "print(d[\"answer\"], end=\"\\n🔥\\n\")"
   ]
  },
  {
   "cell_type": "code",
   "execution_count": null,
   "metadata": {},
   "outputs": [],
   "source": [
    "r\"You are an expert mathematician, solve the problem ad put the answer in \\boxed{}\""
   ]
  },
  {
   "cell_type": "code",
   "execution_count": 67,
   "metadata": {},
   "outputs": [],
   "source": [
    "tokenizer = AutoTokenizer.from_pretrained(\"casperhansen/deepseek-r1-distill-qwen-1.5b-awq\")"
   ]
  },
  {
   "cell_type": "code",
   "execution_count": null,
   "metadata": {},
   "outputs": [],
   "source": [
    "# match (add_generation_prompt, continue_final_message)\n",
    "# case (True, True): invalid, raise error\n",
    "# case (True, False): will add nex turn's <start>user\\nhello<end><start>assistant\\n\n",
    "# case (False, False): will end normally <start>user\\nhello<end>\n",
    "# case (False, True): will not include end token <start>user\\nhello\n",
    "\n",
    "tokens = tokenizer.apply_chat_template(\n",
    "    [\n",
    "        {\n",
    "            \"role\": \"system\",\n",
    "            \"content\": \"\"\"be good\"\"\",\n",
    "        },\n",
    "        {\n",
    "            \"role\": \"user\",\n",
    "            \"content\": \"aaa\",\n",
    "        },\n",
    "    ],\n",
    "    # add_generation_prompt=True,\n",
    "    # continue_final_message=True,\n",
    "    tokenize=False,\n",
    "\n",
    "\n",
    ")\n",
    "tokens"
   ]
  },
  {
   "cell_type": "code",
   "execution_count": null,
   "metadata": {},
   "outputs": [],
   "source": [
    "client = OpenAI(base_url=\"http://localhost:8000/v1\", api_key=\"-\")\n",
    "completion = client.chat.completions.create(\n",
    "    model=\"casperhansen/deepseek-r1-distill-qwen-1.5b-awq\",\n",
    "    messages=[\n",
    "        {\n",
    "            \"role\": \"system\",\n",
    "            \"content\": \"\"\"You are an expert mathematician and programmer.\"\"\",\n",
    "        },\n",
    "        {\n",
    "            \"role\": \"user\",\n",
    "            \"content\": \"Make a python code that solves this question: Mr. Madoff invests 1000 dollars in a fund that compounds annually at a constant interest rate.  After three years, his investment has grown to 1225 dollars.  What is the annual interest rate, as a percentage?  (Round your answer to the nearest integer.)\",\n",
    "        }\n",
    "    ],\n",
    "    #  messages=[\n",
    "    #     {\n",
    "    #         \"role\": \"system\",\n",
    "    #         \"content\": r\"你是一位数学专家，请解答下面的问题并将答案放在 \\boxed{} 内。请用中文提供答案。\",\n",
    "    #     },\n",
    "    #     {\n",
    "    #         \"role\": \"user\",\n",
    "    #         \"content\": \"二次多项式 $P(x)$ 和 $Q(x)$ 的首项系数分别为 $2$ 和 $-2,$。两个多项式的图形都经过两点 $(16,54)$ 和 $(20,53)。求 $P(0) + Q(0)。$\",\n",
    "    #     },\n",
    "    # ],\n",
    "    temperature=0.6,\n",
    "    stream=True,\n",
    "    max_completion_tokens=10000,\n",
    ")\n",
    "for chunk in completion:\n",
    "    print(chunk.choices[0].delta.content, end=\"\")"
   ]
  },
  {
   "cell_type": "code",
   "execution_count": null,
   "metadata": {},
   "outputs": [],
   "source": [
    "client = OpenAI(base_url=\"http://localhost:8000/v1\", api_key=\"-\")\n",
    "prompt = tokenizer.apply_chat_template(\n",
    "    [\n",
    "        {\n",
    "            \"role\": \"system\",\n",
    "            \"content\": \"you are an expert mathematician\",\n",
    "        },\n",
    "        {\n",
    "            \"role\": \"user\",\n",
    "            \"content\": \"Calculate the sum of all primes under 100.\",\n",
    "        },\n",
    "        {\n",
    "            \"role\": \"assistant\",\n",
    "            \"content\": \"\"\"<think>\"\"\",\n",
    "        },\n",
    "    ],\n",
    "    tokenize=False,\n",
    "    # add_generation_prompt=True,\n",
    "    continue_final_message=True,\n",
    ")\n",
    "print(prompt, end=\"\")\n",
    "completion = client.completions.create(\n",
    "    model=\"casperhansen/deepseek-r1-distill-qwen-1.5b-awq\",\n",
    "    prompt=prompt,\n",
    "    temperature=0.6,\n",
    "    stream=True,\n",
    "    max_tokens=10000,\n",
    ")\n",
    "for chunk in completion:\n",
    "    print(chunk.choices[0].text, end=\"\")"
   ]
  }
 ],
 "metadata": {
  "kernelspec": {
   "display_name": ".venv",
   "language": "python",
   "name": "python3"
  },
  "language_info": {
   "codemirror_mode": {
    "name": "ipython",
    "version": 3
   },
   "file_extension": ".py",
   "mimetype": "text/x-python",
   "name": "python",
   "nbconvert_exporter": "python",
   "pygments_lexer": "ipython3",
   "version": "3.10.12"
  }
 },
 "nbformat": 4,
 "nbformat_minor": 2
}
