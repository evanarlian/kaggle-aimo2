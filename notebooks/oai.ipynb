{
 "cells": [
  {
   "cell_type": "code",
   "execution_count": 21,
   "metadata": {},
   "outputs": [],
   "source": [
    "from openai import OpenAI\n",
    "from typing import Any\n",
    "import IPython.display as ipd\n",
    "from aimo2.utils import mdlatex\n",
    "from copy import deepcopy\n",
    "from transformers import AutoTokenizer"
   ]
  },
  {
   "cell_type": "code",
   "execution_count": 5,
   "metadata": {},
   "outputs": [],
   "source": [
    "model = \"casperhansen/deepseek-r1-distill-qwen-1.5b-awq\"\n",
    "client = OpenAI(api_key=\"-\", base_url=\"http://localhost:8000/v1\")\n",
    "tokenizer = AutoTokenizer.from_pretrained(model)"
   ]
  },
  {
   "cell_type": "code",
   "execution_count": 97,
   "metadata": {},
   "outputs": [
    {
     "data": {
      "text/markdown": [
       "***\\<think\\>***\n",
       "\n",
       "I need to add the fractions 1/2 and 1/3. To do this, I should find a common denominator. The least common denominator for 2 and 3 is 6.\n",
       "\n",
       "Next, I'll convert each fraction to have this common denominator. \n",
       "\n",
       "1/2 can be multiplied by 3/3 to become 3/6.\n",
       "1/3 can be multiplied by 2/2 to become 2/6.\n",
       "\n",
       "Now, I can add the two fractions: 3/6 + 2/6 equals 5/6.\n",
       "\n",
       "Therefore, the sum of 1/2 and 1/3 is 5/6.\n",
       "\n",
       "***\\</think\\>***\n",
       "\n",
       "To add the fractions $\\frac{1}{2}$ and $\\frac{1}{3}$, follow these steps:\n",
       "\n",
       "1. **Find a Common Denominator:**\n",
       "   \n",
       "   The denominators are 2 and 3. The least common denominator (LCD) for these is 6.\n",
       "\n",
       "2. **Convert Each Fraction to Have the Common Denominator:**\n",
       "   \n",
       "   - For $\\frac{1}{2}$:\n",
       "     $\n",
       "     \\frac{1}{2} = \\frac{1 \\times 3}{2 \\times 3} = \\frac{3}{6}\n",
       "     $\n",
       "     \n",
       "   - For $\\frac{1}{3}$:\n",
       "     $\n",
       "     \\frac{1}{3} = \\frac{1 \\times 2}{3 \\times 2} = \\frac{2}{6}\n",
       "     $\n",
       "\n",
       "3. **Add the Fractions:**\n",
       "   \n",
       "   $\n",
       "   \\frac{3}{6} + \\frac{2}{6} = \\frac{5}{6}\n",
       "   $\n",
       "\n",
       "4. **Simplify if Possible:**\n",
       "   \n",
       "   The fraction $\\frac{5}{6}$ is already in its simplest form.\n",
       "\n",
       "**Final Answer:**\n",
       "$\n",
       "\\boxed{\\dfrac{5}{6}}\n",
       "$"
      ],
      "text/plain": [
       "<IPython.core.display.Markdown object>"
      ]
     },
     "metadata": {},
     "output_type": "display_data"
    }
   ],
   "source": [
    "history: Any = [\n",
    "    {\"role\": \"user\", \"content\": \"what is 1/2 + 1/3?\"},\n",
    "]\n",
    "completion = client.chat.completions.create(\n",
    "    model=model, messages=history, temperature=0.7\n",
    ")\n",
    "reply = completion.choices[0].message.content\n",
    "history.append({\"role\": \"assistant\", \"content\": reply})\n",
    "mdlatex(reply)"
   ]
  },
  {
   "cell_type": "code",
   "execution_count": 119,
   "metadata": {},
   "outputs": [
    {
     "data": {
      "text/markdown": [
       "***\\<think\\>***\n",
       "\n",
       "I need to add the fractions 1/2 and 1/3. To do this, I should find a common denominator. The least common denominator for 2 and 3 is 6.\n",
       "\n",
       "Next, I'll convert each fraction to have this common denominator. \n",
       "\n",
       "1/2 can be multiplied by 3/3 to become 3/6.\n",
       "1/3 can be multiplied by 2/2 to become 2/6.\n",
       "\n",
       "Now, I can add the two fractions: 3/6 + 2/6 equals 5/6.\n",
       "\n",
       "Therefore, the sum of 1/2 and 1/3 is 5/6.\n",
       "<think2>\n",
       "\n",
       "To add the fractions $\\frac{1}{2}$ and $\\frac{1}{3}$, follow these steps:\n",
       "\n",
       "1. **Find a Common Denominator:**\n",
       "   \n",
       "   The denominators are 2 and 3. The least common denominator (LCD) for these is 6.\n",
       "\n",
       "2. **Convert Each Fraction to Have the Common Denominator:**\n",
       "   \n",
       "   - For $\\frac{1}{2}$:\n",
       "     $\n",
       "     \\frac{1}{2} = \\frac{1 \\times 3}{2 \\times 3} = \\frac{3}{6}\n",
       "     $\n",
       "     \n",
       "   - For $\\frac{1}{3}$:\n",
       "     $\n",
       "     \\frac{1}{3} = \\frac{1 \\times 2}{3 \\times 2} = \\frac{2}{6}\n",
       "     $\n",
       "\n",
       "3. **Add the Fractions:**\n",
       "   \n",
       "   $\n",
       "   \\frac{3}{6} + \\frac{2}{6} = \\frac{5}{6}\n",
       "   $\n",
       "\n",
       "4. **Simplify if Possible:**\n",
       "   \n",
       "   The fraction $\\frac{5}{6}$ is already in its simplest form.\n",
       "\n",
       "**Final Answer:**\n",
       "$\n",
       "\\boxed{\\dfrac{5}{6}}\n",
       "$\n",
       "\n",
       "I repeat, the final answer is: $\n",
       "\\boxed{5/6}\n",
       "$"
      ],
      "text/plain": [
       "<IPython.core.display.Markdown object>"
      ]
     },
     "metadata": {},
     "output_type": "display_data"
    }
   ],
   "source": [
    "# in case the model does not make the final answer\n",
    "# use hacks because </think> crashes the apply_chat_template\n",
    "fake_history = deepcopy(history)\n",
    "fake_history[-1][\"content\"] = (\n",
    "    fake_history[-1][\"content\"].replace(\"</think>\", \"<think2>\")\n",
    "    + \"\\n\\nI repeat, the final answer is: \\\\[\\n\\\\boxed{\"\n",
    ")\n",
    "prompt = tokenizer.apply_chat_template(\n",
    "    fake_history,\n",
    "    tokenize=False,\n",
    "    add_generation_prompt=False,\n",
    "    continue_final_message=True,\n",
    ").replace(\"<think2>\", \"</think>\")\n",
    "completion = client.completions.create(\n",
    "    model=model,\n",
    "    prompt=prompt,\n",
    "    temperature=0.6,\n",
    "    # max_tokens=10000,\n",
    ")\n",
    "reply = fake_history[-1][\"content\"] + completion.choices[0].text\n",
    "# history.append({\"assistant\": reply})\n",
    "mdlatex(reply)"
   ]
  },
  {
   "cell_type": "code",
   "execution_count": 100,
   "metadata": {},
   "outputs": [
    {
     "data": {
      "text/plain": [
       "[{'role': 'user', 'content': 'what is 1/2 + 1/3?'},\n",
       " {'role': 'assistant',\n",
       "  'content': \"<think>\\nI need to add the fractions 1/2 and 1/3. To do this, I should find a common denominator. The least common denominator for 2 and 3 is 6.\\n\\nNext, I'll convert each fraction to have this common denominator. \\n\\n1/2 can be multiplied by 3/3 to become 3/6.\\n1/3 can be multiplied by 2/2 to become 2/6.\\n\\nNow, I can add the two fractions: 3/6 + 2/6 equals 5/6.\\n\\nTherefore, the sum of 1/2 and 1/3 is 5/6.\\n</think>\\n\\nTo add the fractions \\\\(\\\\frac{1}{2}\\\\) and \\\\(\\\\frac{1}{3}\\\\), follow these steps:\\n\\n1. **Find a Common Denominator:**\\n   \\n   The denominators are 2 and 3. The least common denominator (LCD) for these is 6.\\n\\n2. **Convert Each Fraction to Have the Common Denominator:**\\n   \\n   - For \\\\(\\\\frac{1}{2}\\\\):\\n     \\\\[\\n     \\\\frac{1}{2} = \\\\frac{1 \\\\times 3}{2 \\\\times 3} = \\\\frac{3}{6}\\n     \\\\]\\n     \\n   - For \\\\(\\\\frac{1}{3}\\\\):\\n     \\\\[\\n     \\\\frac{1}{3} = \\\\frac{1 \\\\times 2}{3 \\\\times 2} = \\\\frac{2}{6}\\n     \\\\]\\n\\n3. **Add the Fractions:**\\n   \\n   \\\\[\\n   \\\\frac{3}{6} + \\\\frac{2}{6} = \\\\frac{5}{6}\\n   \\\\]\\n\\n4. **Simplify if Possible:**\\n   \\n   The fraction \\\\(\\\\frac{5}{6}\\\\) is already in its simplest form.\\n\\n**Final Answer:**\\n\\\\[\\n\\\\boxed{\\\\dfrac{5}{6}}\\n\\\\]\"}]"
      ]
     },
     "execution_count": 100,
     "metadata": {},
     "output_type": "execute_result"
    }
   ],
   "source": [
    "history"
   ]
  },
  {
   "cell_type": "code",
   "execution_count": 111,
   "metadata": {},
   "outputs": [
    {
     "data": {
      "text/plain": [
       "\"<think>\\nI need to add the fractions 1/2 and 1/3. To do this, I should find a common denominator. The least common denominator for 2 and 3 is 6.\\n\\nNext, I'll convert each fraction to have this common denominator. \\n\\n1/2 can be multiplied by 3/3 to become 3/6.\\n1/3 can be multiplied by 2/2 to become 2/6.\\n\\nNow, I can add the two fractions: 3/6 + 2/6 equals 5/6.\\n\\nTherefore, the sum of 1/2 and 1/3 is 5/6.\\n<think2>\\n\\nTo add the fractions \\\\(\\\\frac{1}{2}\\\\) and \\\\(\\\\frac{1}{3}\\\\), follow these steps:\\n\\n1. **Find a Common Denominator:**\\n   \\n   The denominators are 2 and 3. The least common denominator (LCD) for these is 6.\\n\\n2. **Convert Each Fraction to Have the Common Denominator:**\\n   \\n   - For \\\\(\\\\frac{1}{2}\\\\):\\n     \\\\[\\n     \\\\frac{1}{2} = \\\\frac{1 \\\\times 3}{2 \\\\times 3} = \\\\frac{3}{6}\\n     \\\\]\\n     \\n   - For \\\\(\\\\frac{1}{3}\\\\):\\n     \\\\[\\n     \\\\frac{1}{3} = \\\\frac{1 \\\\times 2}{3 \\\\times 2} = \\\\frac{2}{6}\\n     \\\\]\\n\\n3. **Add the Fractions:**\\n   \\n   \\\\[\\n   \\\\frac{3}{6} + \\\\frac{2}{6} = \\\\frac{5}{6}\\n   \\\\]\\n\\n4. **Simplify if Possible:**\\n   \\n   The fraction \\\\(\\\\frac{5}{6}\\\\) is already in its simplest form.\\n\\n**Final Answer:**\\n\\\\[\\n\\\\boxed{\\\\dfrac{5}{6}}\\n\\\\]\\n\\nI repeat, the final answer is: \\\\[\\n\\\\boxed{5/6}\\n\\\\]\""
      ]
     },
     "execution_count": 111,
     "metadata": {},
     "output_type": "execute_result"
    }
   ],
   "source": [
    "reply"
   ]
  },
  {
   "cell_type": "code",
   "execution_count": 112,
   "metadata": {},
   "outputs": [
    {
     "data": {
      "text/plain": [
       "['\\\\',\n",
       " '[Ċ',\n",
       " '\\\\',\n",
       " 'boxed',\n",
       " '{\\\\',\n",
       " 'd',\n",
       " 'frac',\n",
       " '{',\n",
       " '5',\n",
       " '}{',\n",
       " '6',\n",
       " '}}Ċ',\n",
       " '\\\\',\n",
       " ']']"
      ]
     },
     "execution_count": 112,
     "metadata": {},
     "output_type": "execute_result"
    }
   ],
   "source": [
    "tokenizer.tokenize(\"\\\\[\\n\\\\boxed{\\\\dfrac{5}{6}}\\n\\\\]\")"
   ]
  },
  {
   "cell_type": "code",
   "execution_count": 59,
   "metadata": {},
   "outputs": [
    {
     "name": "stdout",
     "output_type": "stream",
     "text": [
      "<｜begin▁of▁sentence｜><｜Assistant｜>what\n",
      "<class 'str'>\n"
     ]
    }
   ],
   "source": [
    "fake_history = deepcopy(history)\n",
    "huh = tokenizer.apply_chat_template(\n",
    "    [{\"role\": \"assistant\", \"content\": \"what\"}],\n",
    "    tokenize=False,\n",
    "    continue_final_message=True,\n",
    ")\n",
    "print(huh)\n",
    "print(type(huh))\n",
    "# tokenizer.decode(huh)"
   ]
  },
  {
   "cell_type": "code",
   "execution_count": 27,
   "metadata": {},
   "outputs": [
    {
     "data": {
      "text/plain": [
       "[{'role': 'user', 'content': 'what is 1/2 + 1/3?'},\n",
       " {'role': 'assistant',\n",
       "  'content': '<think>\\nTo add the fractions 1/2 and 1/3, I first need to find a common denominator. The least common denominator for 2 and 3 is 6.\\n\\nNext, I convert each fraction to have this common denominator. 1/2 becomes 3/6 and 1/3 becomes 2/6.\\n\\nFinally, I add the two fractions together: 3/6 + 2/6 equals 5/6.\\n</think>\\n\\nTo find the sum of \\\\(\\\\frac{1}{2} + \\\\frac{1}{3}\\\\), follow these steps:\\n\\n1. **Find a Common Denominator:**\\n   \\n   The denominators are 2 and 3. The least common denominator (LCD) for 2 and 3 is 6.\\n\\n2. **Convert Each Fraction to Have the Common Denominator:**\\n   \\n   \\\\[\\n   \\\\frac{1}{2} = \\\\frac{3}{6} \\\\quad \\\\text{and} \\\\quad \\\\frac{1}{3} = \\\\frac{2}{6}\\n   \\\\]\\n\\n3. **Add the Fractions:**\\n   \\n   \\\\[\\n   \\\\frac{3}{6} + \\\\frac{2}{6} = \\\\frac{5}{6}\\n   \\\\]\\n\\n4. **Simplify if Possible:**\\n   \\n   In this case, \\\\(\\\\frac{5}{6}\\\\) cannot be simplified further.\\n\\n**Final Answer:**\\n\\n\\\\[\\n\\\\boxed{\\\\dfrac{5}{6}}\\n\\\\]'}]"
      ]
     },
     "execution_count": 27,
     "metadata": {},
     "output_type": "execute_result"
    }
   ],
   "source": [
    "fake_history"
   ]
  },
  {
   "cell_type": "code",
   "execution_count": null,
   "metadata": {},
   "outputs": [
    {
     "ename": "ValueError",
     "evalue": "substring not found",
     "output_type": "error",
     "traceback": [
      "\u001b[0;31m---------------------------------------------------------------------------\u001b[0m",
      "\u001b[0;31mValueError\u001b[0m                                Traceback (most recent call last)",
      "File \u001b[0;32m~/Documents/kaggle/kaggle-aimo2/.venv/lib/python3.10/site-packages/transformers/tokenization_utils_base.py:1699\u001b[0m, in \u001b[0;36mPreTrainedTokenizerBase.apply_chat_template\u001b[0;34m(self, conversation, tools, documents, chat_template, add_generation_prompt, continue_final_message, tokenize, padding, truncation, max_length, return_tensors, return_dict, return_assistant_tokens_mask, tokenizer_kwargs, **kwargs)\u001b[0m\n\u001b[1;32m   1698\u001b[0m \u001b[38;5;28;01mtry\u001b[39;00m:\n\u001b[0;32m-> 1699\u001b[0m     rendered_chat \u001b[38;5;241m=\u001b[39m rendered_chat[: \u001b[43mrendered_chat\u001b[49m\u001b[38;5;241;43m.\u001b[39;49m\u001b[43mrindex\u001b[49m\u001b[43m(\u001b[49m\u001b[43mfinal_message\u001b[49m\u001b[43m)\u001b[49m \u001b[38;5;241m+\u001b[39m \u001b[38;5;28mlen\u001b[39m(final_message)]\n\u001b[1;32m   1700\u001b[0m \u001b[38;5;28;01mexcept\u001b[39;00m:  \u001b[38;5;66;03m# noqa: E722\u001b[39;00m\n\u001b[1;32m   1701\u001b[0m     \u001b[38;5;66;03m# Some chat templates like Llama-3.1 trim messages before rendering, so we must do the same here.\u001b[39;00m\n",
      "\u001b[0;31mValueError\u001b[0m: substring not found",
      "\nDuring handling of the above exception, another exception occurred:\n",
      "\u001b[0;31mValueError\u001b[0m                                Traceback (most recent call last)",
      "Cell \u001b[0;32mIn[55], line 1\u001b[0m\n\u001b[0;32m----> 1\u001b[0m injected \u001b[38;5;241m=\u001b[39m \u001b[43mtokenizer\u001b[49m\u001b[38;5;241;43m.\u001b[39;49m\u001b[43mapply_chat_template\u001b[49m\u001b[43m(\u001b[49m\n\u001b[1;32m      2\u001b[0m \u001b[43m    \u001b[49m\u001b[43m[\u001b[49m\n\u001b[1;32m      3\u001b[0m \u001b[43m        \u001b[49m\u001b[43m{\u001b[49m\u001b[38;5;124;43m\"\u001b[39;49m\u001b[38;5;124;43mrole\u001b[39;49m\u001b[38;5;124;43m\"\u001b[39;49m\u001b[43m:\u001b[49m\u001b[43m \u001b[49m\u001b[38;5;124;43m\"\u001b[39;49m\u001b[38;5;124;43muser\u001b[39;49m\u001b[38;5;124;43m\"\u001b[39;49m\u001b[43m,\u001b[49m\u001b[43m \u001b[49m\u001b[38;5;124;43m\"\u001b[39;49m\u001b[38;5;124;43mcontent\u001b[39;49m\u001b[38;5;124;43m\"\u001b[39;49m\u001b[43m:\u001b[49m\u001b[43m \u001b[49m\u001b[38;5;124;43m\"\u001b[39;49m\u001b[38;5;124;43mwhat is 1/2 + 1/3?\u001b[39;49m\u001b[38;5;124;43m\"\u001b[39;49m\u001b[43m}\u001b[49m\u001b[43m,\u001b[49m\n\u001b[1;32m      4\u001b[0m \u001b[43m        \u001b[49m\u001b[43m{\u001b[49m\n\u001b[1;32m      5\u001b[0m \u001b[43m            \u001b[49m\u001b[38;5;124;43m\"\u001b[39;49m\u001b[38;5;124;43mrole\u001b[39;49m\u001b[38;5;124;43m\"\u001b[39;49m\u001b[43m:\u001b[49m\u001b[43m \u001b[49m\u001b[38;5;124;43m\"\u001b[39;49m\u001b[38;5;124;43massistant\u001b[39;49m\u001b[38;5;124;43m\"\u001b[39;49m\u001b[43m,\u001b[49m\n\u001b[1;32m      6\u001b[0m \u001b[43m            \u001b[49m\u001b[38;5;124;43m\"\u001b[39;49m\u001b[38;5;124;43mcontent\u001b[39;49m\u001b[38;5;124;43m\"\u001b[39;49m\u001b[43m:\u001b[49m\u001b[43m \u001b[49m\u001b[38;5;124;43m\"\u001b[39;49m\u001b[38;5;124;43m<think>\u001b[39;49m\u001b[38;5;130;43;01m\\n\u001b[39;49;00m\u001b[38;5;124;43mTo add the fractions 1/2 and 1/3, I first need to find a common denominator. The least common denominator for 2 and 3 is 6.\u001b[39;49m\u001b[38;5;130;43;01m\\n\u001b[39;49;00m\u001b[38;5;130;43;01m\\n\u001b[39;49;00m\u001b[38;5;124;43mNext, I convert each fraction to have this common denominator. 1/2 becomes 3/6 and 1/3 becomes 2/6.\u001b[39;49m\u001b[38;5;130;43;01m\\n\u001b[39;49;00m\u001b[38;5;130;43;01m\\n\u001b[39;49;00m\u001b[38;5;124;43mFinally, I add the two fractions together: 3/6 + 2/6 equals 5/6.\u001b[39;49m\u001b[38;5;130;43;01m\\n\u001b[39;49;00m\u001b[38;5;124;43m</think>\u001b[39;49m\u001b[38;5;130;43;01m\\n\u001b[39;49;00m\u001b[38;5;130;43;01m\\n\u001b[39;49;00m\u001b[38;5;124;43mTo find the sum of \u001b[39;49m\u001b[38;5;130;43;01m\\\\\u001b[39;49;00m\u001b[38;5;124;43m(\u001b[39;49m\u001b[38;5;130;43;01m\\\\\u001b[39;49;00m\u001b[38;5;124;43mfrac\u001b[39;49m\u001b[38;5;132;43;01m{1}\u001b[39;49;00m\u001b[38;5;132;43;01m{2}\u001b[39;49;00m\u001b[38;5;124;43m + \u001b[39;49m\u001b[38;5;130;43;01m\\\\\u001b[39;49;00m\u001b[38;5;124;43mfrac\u001b[39;49m\u001b[38;5;132;43;01m{1}\u001b[39;49;00m\u001b[38;5;132;43;01m{3}\u001b[39;49;00m\u001b[38;5;130;43;01m\\\\\u001b[39;49;00m\u001b[38;5;124;43m), follow these steps:\u001b[39;49m\u001b[38;5;130;43;01m\\n\u001b[39;49;00m\u001b[38;5;130;43;01m\\n\u001b[39;49;00m\u001b[38;5;124;43m1. **Find a Common Denominator:**\u001b[39;49m\u001b[38;5;130;43;01m\\n\u001b[39;49;00m\u001b[38;5;124;43m   \u001b[39;49m\u001b[38;5;130;43;01m\\n\u001b[39;49;00m\u001b[38;5;124;43m   The denominators are 2 and 3. The least common denominator (LCD) for 2 and 3 is 6.\u001b[39;49m\u001b[38;5;130;43;01m\\n\u001b[39;49;00m\u001b[38;5;130;43;01m\\n\u001b[39;49;00m\u001b[38;5;124;43m2. **Convert Each Fraction to Have the Common Denominator:**\u001b[39;49m\u001b[38;5;130;43;01m\\n\u001b[39;49;00m\u001b[38;5;124;43m   \u001b[39;49m\u001b[38;5;130;43;01m\\n\u001b[39;49;00m\u001b[38;5;124;43m   \u001b[39;49m\u001b[38;5;130;43;01m\\\\\u001b[39;49;00m\u001b[38;5;124;43m[\u001b[39;49m\u001b[38;5;130;43;01m\\n\u001b[39;49;00m\u001b[38;5;124;43m   \u001b[39;49m\u001b[38;5;130;43;01m\\\\\u001b[39;49;00m\u001b[38;5;124;43mfrac\u001b[39;49m\u001b[38;5;132;43;01m{1}\u001b[39;49;00m\u001b[38;5;132;43;01m{2}\u001b[39;49;00m\u001b[38;5;124;43m = \u001b[39;49m\u001b[38;5;130;43;01m\\\\\u001b[39;49;00m\u001b[38;5;124;43mfrac\u001b[39;49m\u001b[38;5;132;43;01m{3}\u001b[39;49;00m\u001b[38;5;132;43;01m{6}\u001b[39;49;00m\u001b[38;5;124;43m \u001b[39;49m\u001b[38;5;130;43;01m\\\\\u001b[39;49;00m\u001b[38;5;124;43mquad \u001b[39;49m\u001b[38;5;130;43;01m\\\\\u001b[39;49;00m\u001b[38;5;124;43mtext\u001b[39;49m\u001b[38;5;132;43;01m{and}\u001b[39;49;00m\u001b[38;5;124;43m \u001b[39;49m\u001b[38;5;130;43;01m\\\\\u001b[39;49;00m\u001b[38;5;124;43mquad \u001b[39;49m\u001b[38;5;130;43;01m\\\\\u001b[39;49;00m\u001b[38;5;124;43mfrac\u001b[39;49m\u001b[38;5;132;43;01m{1}\u001b[39;49;00m\u001b[38;5;132;43;01m{3}\u001b[39;49;00m\u001b[38;5;124;43m = \u001b[39;49m\u001b[38;5;130;43;01m\\\\\u001b[39;49;00m\u001b[38;5;124;43mfrac\u001b[39;49m\u001b[38;5;132;43;01m{2}\u001b[39;49;00m\u001b[38;5;132;43;01m{6}\u001b[39;49;00m\u001b[38;5;130;43;01m\\n\u001b[39;49;00m\u001b[38;5;124;43m   \u001b[39;49m\u001b[38;5;130;43;01m\\\\\u001b[39;49;00m\u001b[38;5;124;43m]\u001b[39;49m\u001b[38;5;130;43;01m\\n\u001b[39;49;00m\u001b[38;5;130;43;01m\\n\u001b[39;49;00m\u001b[38;5;124;43m3. **Add the Fractions:**\u001b[39;49m\u001b[38;5;130;43;01m\\n\u001b[39;49;00m\u001b[38;5;124;43m   \u001b[39;49m\u001b[38;5;130;43;01m\\n\u001b[39;49;00m\u001b[38;5;124;43m   \u001b[39;49m\u001b[38;5;130;43;01m\\\\\u001b[39;49;00m\u001b[38;5;124;43m[\u001b[39;49m\u001b[38;5;130;43;01m\\n\u001b[39;49;00m\u001b[38;5;124;43m   \u001b[39;49m\u001b[38;5;130;43;01m\\\\\u001b[39;49;00m\u001b[38;5;124;43mfrac\u001b[39;49m\u001b[38;5;132;43;01m{3}\u001b[39;49;00m\u001b[38;5;132;43;01m{6}\u001b[39;49;00m\u001b[38;5;124;43m + \u001b[39;49m\u001b[38;5;130;43;01m\\\\\u001b[39;49;00m\u001b[38;5;124;43mfrac\u001b[39;49m\u001b[38;5;132;43;01m{2}\u001b[39;49;00m\u001b[38;5;132;43;01m{6}\u001b[39;49;00m\u001b[38;5;124;43m = \u001b[39;49m\u001b[38;5;130;43;01m\\\\\u001b[39;49;00m\u001b[38;5;124;43mfrac\u001b[39;49m\u001b[38;5;132;43;01m{5}\u001b[39;49;00m\u001b[38;5;132;43;01m{6}\u001b[39;49;00m\u001b[38;5;130;43;01m\\n\u001b[39;49;00m\u001b[38;5;124;43m   \u001b[39;49m\u001b[38;5;130;43;01m\\\\\u001b[39;49;00m\u001b[38;5;124;43m]\u001b[39;49m\u001b[38;5;130;43;01m\\n\u001b[39;49;00m\u001b[38;5;130;43;01m\\n\u001b[39;49;00m\u001b[38;5;124;43m4. **Simplify if Possible:**\u001b[39;49m\u001b[38;5;130;43;01m\\n\u001b[39;49;00m\u001b[38;5;124;43m   \u001b[39;49m\u001b[38;5;130;43;01m\\n\u001b[39;49;00m\u001b[38;5;124;43m   In this case, \u001b[39;49m\u001b[38;5;130;43;01m\\\\\u001b[39;49;00m\u001b[38;5;124;43m(\u001b[39;49m\u001b[38;5;130;43;01m\\\\\u001b[39;49;00m\u001b[38;5;124;43mfrac\u001b[39;49m\u001b[38;5;132;43;01m{5}\u001b[39;49;00m\u001b[38;5;132;43;01m{6}\u001b[39;49;00m\u001b[38;5;130;43;01m\\\\\u001b[39;49;00m\u001b[38;5;124;43m) cannot be simplified further.\u001b[39;49m\u001b[38;5;130;43;01m\\n\u001b[39;49;00m\u001b[38;5;130;43;01m\\n\u001b[39;49;00m\u001b[38;5;124;43m**Final Answer:**\u001b[39;49m\u001b[38;5;130;43;01m\\n\u001b[39;49;00m\u001b[38;5;130;43;01m\\n\u001b[39;49;00m\u001b[38;5;130;43;01m\\\\\u001b[39;49;00m\u001b[38;5;124;43m[\u001b[39;49m\u001b[38;5;130;43;01m\\n\u001b[39;49;00m\u001b[38;5;130;43;01m\\\\\u001b[39;49;00m\u001b[38;5;124;43mboxed\u001b[39;49m\u001b[38;5;124;43m{\u001b[39;49m\u001b[38;5;130;43;01m\\\\\u001b[39;49;00m\u001b[38;5;124;43mdfrac\u001b[39;49m\u001b[38;5;132;43;01m{5}\u001b[39;49;00m\u001b[38;5;132;43;01m{6}\u001b[39;49;00m\u001b[38;5;124;43m}\u001b[39;49m\u001b[38;5;130;43;01m\\n\u001b[39;49;00m\u001b[38;5;130;43;01m\\\\\u001b[39;49;00m\u001b[38;5;124;43m]. I repeat, the final answer is \u001b[39;49m\u001b[38;5;130;43;01m\\\\\u001b[39;49;00m\u001b[38;5;124;43mboxed\u001b[39;49m\u001b[38;5;124;43m{\u001b[39;49m\u001b[38;5;124;43m\"\u001b[39;49m\u001b[43m,\u001b[49m\n\u001b[1;32m      7\u001b[0m \u001b[43m        \u001b[49m\u001b[43m}\u001b[49m\u001b[43m,\u001b[49m\n\u001b[1;32m      8\u001b[0m \u001b[43m    \u001b[49m\u001b[43m]\u001b[49m\u001b[43m,\u001b[49m\n\u001b[1;32m      9\u001b[0m \u001b[43m    \u001b[49m\u001b[43mtokenize\u001b[49m\u001b[38;5;241;43m=\u001b[39;49m\u001b[38;5;28;43;01mFalse\u001b[39;49;00m\u001b[43m,\u001b[49m\n\u001b[1;32m     10\u001b[0m \u001b[43m    \u001b[49m\u001b[38;5;66;43;03m# add_generation_prompt=True,\u001b[39;49;00m\n\u001b[1;32m     11\u001b[0m \u001b[43m    \u001b[49m\u001b[43mcontinue_final_message\u001b[49m\u001b[38;5;241;43m=\u001b[39;49m\u001b[38;5;28;43;01mTrue\u001b[39;49;00m\u001b[43m,\u001b[49m\n\u001b[1;32m     12\u001b[0m \u001b[43m)\u001b[49m\n",
      "File \u001b[0;32m~/Documents/kaggle/kaggle-aimo2/.venv/lib/python3.10/site-packages/transformers/tokenization_utils_base.py:1703\u001b[0m, in \u001b[0;36mPreTrainedTokenizerBase.apply_chat_template\u001b[0;34m(self, conversation, tools, documents, chat_template, add_generation_prompt, continue_final_message, tokenize, padding, truncation, max_length, return_tensors, return_dict, return_assistant_tokens_mask, tokenizer_kwargs, **kwargs)\u001b[0m\n\u001b[1;32m   1700\u001b[0m         \u001b[38;5;28;01mexcept\u001b[39;00m:  \u001b[38;5;66;03m# noqa: E722\u001b[39;00m\n\u001b[1;32m   1701\u001b[0m             \u001b[38;5;66;03m# Some chat templates like Llama-3.1 trim messages before rendering, so we must do the same here.\u001b[39;00m\n\u001b[1;32m   1702\u001b[0m             final_message \u001b[38;5;241m=\u001b[39m final_message\u001b[38;5;241m.\u001b[39mstrip()\n\u001b[0;32m-> 1703\u001b[0m             rendered_chat \u001b[38;5;241m=\u001b[39m rendered_chat[: \u001b[43mrendered_chat\u001b[49m\u001b[38;5;241;43m.\u001b[39;49m\u001b[43mrindex\u001b[49m\u001b[43m(\u001b[49m\u001b[43mfinal_message\u001b[49m\u001b[43m)\u001b[49m \u001b[38;5;241m+\u001b[39m \u001b[38;5;28mlen\u001b[39m(final_message)]\n\u001b[1;32m   1704\u001b[0m     rendered\u001b[38;5;241m.\u001b[39mappend(rendered_chat)\n\u001b[1;32m   1706\u001b[0m \u001b[38;5;28;01mif\u001b[39;00m \u001b[38;5;129;01mnot\u001b[39;00m is_batched:\n",
      "\u001b[0;31mValueError\u001b[0m: substring not found"
     ]
    }
   ],
   "source": [
    "injected = tokenizer.apply_chat_template(\n",
    "    [\n",
    "        {\"role\": \"user\", \"content\": \"what is 1/2 + 1/3?\"},\n",
    "        {\n",
    "            \"role\": \"assistant\",\n",
    "            \"content\": \"<think>\\nTo add the fractions 1/2 and 1/3, I first need to find a common denominator. The least common denominator for 2 and 3 is 6.\\n\\nNext, I convert each fraction to have this common denominator. 1/2 becomes 3/6 and 1/3 becomes 2/6.\\n\\nFinally, I add the two fractions together: 3/6 + 2/6 equals 5/6.\\n</think>\\n\\nTo find the sum of \\\\(\\\\frac{1}{2} + \\\\frac{1}{3}\\\\), follow these steps:\\n\\n1. **Find a Common Denominator:**\\n   \\n   The denominators are 2 and 3. The least common denominator (LCD) for 2 and 3 is 6.\\n\\n2. **Convert Each Fraction to Have the Common Denominator:**\\n   \\n   \\\\[\\n   \\\\frac{1}{2} = \\\\frac{3}{6} \\\\quad \\\\text{and} \\\\quad \\\\frac{1}{3} = \\\\frac{2}{6}\\n   \\\\]\\n\\n3. **Add the Fractions:**\\n   \\n   \\\\[\\n   \\\\frac{3}{6} + \\\\frac{2}{6} = \\\\frac{5}{6}\\n   \\\\]\\n\\n4. **Simplify if Possible:**\\n   \\n   In this case, \\\\(\\\\frac{5}{6}\\\\) cannot be simplified further.\\n\\n**Final Answer:**\\n\\n\\\\[\\n\\\\boxed{\\\\dfrac{5}{6}}\\n\\\\]. I repeat, the final answer is \\\\boxed{\".,\n",
    "        },\n",
    "    ],\n",
    "    tokenize=False,\n",
    "    # add_generation_prompt=True,\n",
    "    continue_final_message=True,\n",
    ")"
   ]
  },
  {
   "cell_type": "code",
   "execution_count": 52,
   "metadata": {},
   "outputs": [
    {
     "data": {
      "text/plain": [
       "['\\\\', 'boxed', '{}']"
      ]
     },
     "execution_count": 52,
     "metadata": {},
     "output_type": "execute_result"
    }
   ],
   "source": [
    "tokenizer.tokenize(\"\\\\boxed{}\")"
   ]
  },
  {
   "cell_type": "code",
   "execution_count": 23,
   "metadata": {},
   "outputs": [
    {
     "data": {
      "text/plain": [
       "[{'role': 'user', 'content': 'what is 1/2 + 1/3?'},\n",
       " {'role': 'assistant',\n",
       "  'content': '<think>\\nTo add the fractions 1/2 and 1/3, I first need to find a common denominator. The least common denominator for 2 and 3 is 6.\\n\\nNext, I convert each fraction to have this common denominator. 1/2 becomes 3/6 and 1/3 becomes 2/6.\\n\\nFinally, I add the two fractions together: 3/6 + 2/6 equals 5/6.\\n</think>\\n\\nTo find the sum of \\\\(\\\\frac{1}{2} + \\\\frac{1}{3}\\\\), follow these steps:\\n\\n1. **Find a Common Denominator:**\\n   \\n   The denominators are 2 and 3. The least common denominator (LCD) for 2 and 3 is 6.\\n\\n2. **Convert Each Fraction to Have the Common Denominator:**\\n   \\n   \\\\[\\n   \\\\frac{1}{2} = \\\\frac{3}{6} \\\\quad \\\\text{and} \\\\quad \\\\frac{1}{3} = \\\\frac{2}{6}\\n   \\\\]\\n\\n3. **Add the Fractions:**\\n   \\n   \\\\[\\n   \\\\frac{3}{6} + \\\\frac{2}{6} = \\\\frac{5}{6}\\n   \\\\]\\n\\n4. **Simplify if Possible:**\\n   \\n   In this case, \\\\(\\\\frac{5}{6}\\\\) cannot be simplified further.\\n\\n**Final Answer:**\\n\\n\\\\[\\n\\\\boxed{\\\\dfrac{5}{6}}\\n\\\\]'}]"
      ]
     },
     "execution_count": 23,
     "metadata": {},
     "output_type": "execute_result"
    }
   ],
   "source": [
    "fake_history"
   ]
  },
  {
   "cell_type": "code",
   "execution_count": 13,
   "metadata": {},
   "outputs": [
    {
     "data": {
      "text/plain": [
       "'<｜begin▁of▁sentence｜>you are an expert mathematician<｜User｜>Calculate the sum of all primes under 100.<｜Assistant｜><think>'"
      ]
     },
     "execution_count": 13,
     "metadata": {},
     "output_type": "execute_result"
    }
   ],
   "source": [
    "tokenizer.apply_chat_template(\n",
    "    [\n",
    "        {\n",
    "            \"role\": \"system\",\n",
    "            \"content\": \"you are an expert mathematician\",\n",
    "        },\n",
    "        {\n",
    "            \"role\": \"user\",\n",
    "            \"content\": \"Calculate the sum of all primes under 100.\",\n",
    "        },\n",
    "        {\n",
    "            \"role\": \"assistant\",\n",
    "            \"content\": \"\"\"<think>\"\"\",\n",
    "        },\n",
    "    ],\n",
    "    tokenize=False,\n",
    "    # add_generation_prompt=True,\n",
    "    continue_final_message=True,\n",
    ")"
   ]
  },
  {
   "cell_type": "code",
   "execution_count": 42,
   "metadata": {},
   "outputs": [
    {
     "data": {
      "text/markdown": [
       "\\<think\\> $ \\frac{1}{2} $ \\</think\\>"
      ],
      "text/plain": [
       "<IPython.core.display.Markdown object>"
      ]
     },
     "execution_count": 42,
     "metadata": {},
     "output_type": "execute_result"
    }
   ],
   "source": [
    "ipd.Markdown(\"\\<think\\> $ \\\\frac{1}{2} $ \\\\</think\\\\>\")"
   ]
  }
 ],
 "metadata": {
  "kernelspec": {
   "display_name": ".venv",
   "language": "python",
   "name": "python3"
  },
  "language_info": {
   "codemirror_mode": {
    "name": "ipython",
    "version": 3
   },
   "file_extension": ".py",
   "mimetype": "text/x-python",
   "name": "python",
   "nbconvert_exporter": "python",
   "pygments_lexer": "ipython3",
   "version": "3.10.12"
  }
 },
 "nbformat": 4,
 "nbformat_minor": 2
}
