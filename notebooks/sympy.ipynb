{
 "cells": [
  {
   "cell_type": "code",
   "execution_count": null,
   "metadata": {},
   "outputs": [],
   "source": [
    "from typing import Optional\n",
    "\n",
    "import sympy\n",
    "from sympy import sympify\n",
    "from sympy.parsing.latex import parse_latex\n",
    "\n",
    "def latex_to_int_modded(text: str) -> Optional[int]:\n",
    "    try:\n",
    "        # lark backend due to antlr not working for some reason\n",
    "        sympy_expr = parse_latex(text, backend=\"antlr\")\n",
    "        # sympy_expr = parse_latex(text, backend=\"lark\")\n",
    "        # convert expr that is perfecly castable to integer, e.g.: sqrt(4) == 2.0\n",
    "        # but thanks to Rational, we can detect this is in fact an int (2)\n",
    "        print(sympy_expr)\n",
    "        result = sympy.Rational(sympy_expr)\n",
    "        if result.is_integer:\n",
    "            return result.numerator // result.denominator\n",
    "        return None\n",
    "    except Exception as e:\n",
    "        print(e)\n",
    "        return None\n",
    "\n",
    "# \\\\boxed{4046 \\\\times 4045!!}\n",
    "latex_to_int_modded(\"3!\")"
   ]
  },
  {
   "cell_type": "code",
   "execution_count": null,
   "metadata": {},
   "outputs": [],
   "source": [
    "from aimo2.parser.latex import MyLatexParser\n",
    "from pathlib import Path\n",
    "\n",
    "\n",
    "MyLatexParser(grammar_dir=Path(\"../aimo2/parser\").resolve(), mod=1000, timeout=1.0)"
   ]
  },
  {
   "cell_type": "code",
   "execution_count": null,
   "metadata": {},
   "outputs": [],
   "source": [
    "from lark import Lark\n",
    "parser = MyLatexParser(Path(\"../aimo2/parser\").resolve(), mod=1000, timeout=0.3)\n",
    "ans = parser.latex_to_int_modded(\"11132141!\")\n",
    "ans"
   ]
  },
  {
   "cell_type": "code",
   "execution_count": null,
   "metadata": {},
   "outputs": [],
   "source": [
    "from sympy import sympify\n",
    "\n",
    "\n",
    "s = sympify(\" 6 /6\")\n",
    "int(s)"
   ]
  },
  {
   "cell_type": "code",
   "execution_count": null,
   "metadata": {},
   "outputs": [],
   "source": [
    "[a for a in dir(ans) if a.startswith(\"is_\")]"
   ]
  },
  {
   "cell_type": "code",
   "execution_count": null,
   "metadata": {},
   "outputs": [],
   "source": [
    "# sympy_expr = parse_latex(\"2!\", backend=\"antlr\")\n",
    "# # sympy_expr = parse_latex(text, backend=\"lark\")\n",
    "# # convert expr that is perfecly castable to integer, e.g.: sqrt(4) == 2.0\n",
    "# # but thanks to Rational, we can detect this is in fact an int (2)\n",
    "# print(sympy_expr)\n",
    "# result = sympy.Rational(sympy_expr)\n",
    "# if result.is_integer:\n",
    "#     return result.numerator // result.denominator\n",
    "# return None"
   ]
  },
  {
   "cell_type": "code",
   "execution_count": null,
   "metadata": {},
   "outputs": [],
   "source": [
    "# sympy_expr = parse_latex(\"5! mod 10\", backend=\"antlr\")\n",
    "# int(sympy_expr)\n",
    "\n",
    "\n",
    "a = sympify(\"4046 * 4045!\")"
   ]
  },
  {
   "cell_type": "code",
   "execution_count": null,
   "metadata": {},
   "outputs": [],
   "source": [
    "from typing import Optional\n",
    "\n",
    "import sympy\n",
    "from sympy.parsing.latex import parse_latex\n",
    "from sympy import factorial, factorial2, S\n",
    "\n",
    "def latex_to_int_modded(text: str) -> Optional[int]:\n",
    "    try:\n",
    "        # Parse LaTeX with lark backend\n",
    "        sympy_expr = parse_latex(text, backend=\"lark\")\n",
    "\n",
    "        # Function to replace nested factorials (from !!)\n",
    "        def replace_double_factorial(expr):\n",
    "            if expr.func == factorial and expr.args[0].func == factorial:\n",
    "                # Detected !! pattern, e.g., factorial(factorial(n))\n",
    "                n = expr.args[0].args[0]  # Extract the base number\n",
    "                return factorial2(n)\n",
    "            return expr.func(*[replace_double_factorial(arg) for arg in expr.args])\n",
    "\n",
    "        # Apply the replacement\n",
    "        corrected_expr = replace_double_factorial(sympy_expr)\n",
    "\n",
    "        # Convert to Rational to check if it's an integer\n",
    "        result = sympy.Rational(corrected_expr)\n",
    "        if result.is_integer:\n",
    "            return result.numerator // result.denominator\n",
    "        return None\n",
    "    except Exception:\n",
    "        return None\n",
    "\n",
    "# Test cases\n",
    "print(latex_to_int_modded(r\"3!!\"))      # Should return 3 (double factorial)\n",
    "print(latex_to_int_modded(r\"3!\"))       # Should return 6 (single factorial)\n",
    "print(latex_to_int_modded(r\"\\sqrt{4}\")) # Should return 2\n",
    "\n",
    "print(latex_to_int_modded(r\"3.5\"))      # Should return None (not an integer)"
   ]
  },
  {
   "cell_type": "code",
   "execution_count": null,
   "metadata": {},
   "outputs": [],
   "source": [
    "from sympy.parsing.sympy_parser import parse_expr\n",
    "\n",
    "parse_expr(\"3\")"
   ]
  },
  {
   "cell_type": "code",
   "execution_count": null,
   "metadata": {},
   "outputs": [],
   "source": [
    "import os\n",
    "import tempfile\n",
    "import lark\n",
    "import sympy\n",
    "from sympy.testing.pytest import raises\n",
    "from sympy.parsing.latex.lark import (\n",
    "    LarkLaTeXParser,\n",
    "    TransformToSymPyExpr,\n",
    "    parse_latex_lark,\n",
    ")\n",
    "from importlib.resources import files\n",
    "\n",
    "\n",
    "# grammar_file = os.path.join(os.path.dirname(__file__), \"../latex/lark/grammar/latex.lark\")\n",
    "grammar_file = str(files(\"sympy.parsing.latex.lark.grammar\") / \"latex.lark\")\n",
    "print(grammar_file)\n",
    "\n",
    "\n",
    "\n",
    "def init_custom_parser(modification, transformer=None):\n",
    "    with open(grammar_file, encoding=\"utf-8\") as f:\n",
    "        latex_grammar = f.read()\n",
    "\n",
    "    latex_grammar += modification\n",
    "\n",
    "    with tempfile.NamedTemporaryFile() as f:\n",
    "        f.write(bytes(latex_grammar, encoding=\"utf8\"))\n",
    "\n",
    "        parser = LarkLaTeXParser(grammar_file=f.name, transformer=transformer)\n",
    "\n",
    "    return parser\n",
    "\n",
    "\n",
    "class CustomTransformer(TransformToSymPyExpr):\n",
    "    def number(self, tokens):\n",
    "        if \",\" in tokens[0]:\n",
    "            # The Float constructor expects a dot as the decimal separator\n",
    "            return sympy.core.numbers.Float(tokens[0].replace(\",\", \".\"))\n",
    "        else:\n",
    "            return sympy.core.numbers.Integer(tokens[0])\n",
    "\n",
    "\n",
    "def test_custom1():\n",
    "    # Removes the parser's ability to understand \\cdot and \\div.\n",
    "    modification1 = \"\"\"\n",
    "%override DIV_SYMBOL: DIV\n",
    "%override MUL_SYMBOL: MUL | CMD_TIMES\n",
    "\"\"\"\n",
    "    parser = init_custom_parser(modification1)\n",
    "    with raises(lark.exceptions.UnexpectedCharacters):\n",
    "        parser.doparse(r\"a \\cdot b\")\n",
    "        parser.doparse(r\"x \\div y\")\n",
    "\n",
    "\n",
    "def test_custom2():\n",
    "    # Makes the parser parse commas as the decimal separator instead of dots\n",
    "    with raises(lark.exceptions.UnexpectedCharacters):\n",
    "        # Asserting that the default parser cannot parse numbers which have commas as\n",
    "        # the decimal separator\n",
    "        parse_latex_lark(\"100,1\")\n",
    "        parse_latex_lark(\"0,009\")\n",
    "\n",
    "    modification2 = r\"\"\"\n",
    "%override number: /\\d+(,\\d*)?/\n",
    "\"\"\"\n",
    "    parser = init_custom_parser(modification2, CustomTransformer)\n",
    "    parser.doparse(\"100,1\")\n",
    "    parser.doparse(\"0,009\")\n",
    "    parser.doparse(\"2,71828\")\n",
    "    parser.doparse(\"3,14159\")\n",
    "\n",
    "\n",
    "def test_custom3():\n",
    "    # makes sympy recognize double factorial\n",
    "    modification3 = \"\"\"\n",
    "DOUBLE_BANG: \"@\"\n",
    "factorial2: _expression_func DOUBLE_BANG\n",
    "%extend _function: factorial2\n",
    "\"\"\"\n",
    "    parser = init_custom_parser(modification3)\n",
    "    print(parser.doparse(\"3@\"))\n",
    "\n",
    "test_custom3()"
   ]
  },
  {
   "cell_type": "code",
   "execution_count": null,
   "metadata": {},
   "outputs": [],
   "source": [
    "from sympy.parsing.latex.lark import parse_latex_lark"
   ]
  },
  {
   "cell_type": "code",
   "execution_count": null,
   "metadata": {},
   "outputs": [],
   "source": [
    "a = \"\"\"\n",
    "%e\n",
    "\"\"\"\n",
    "a"
   ]
  },
  {
   "cell_type": "markdown",
   "metadata": {},
   "source": [
    "# manual Lark"
   ]
  },
  {
   "cell_type": "code",
   "execution_count": null,
   "metadata": {},
   "outputs": [],
   "source": [
    "# make sympy latex parser but we swap the parser with ours, this is to allow quick modification\n",
    "# TODO how does this one maps to sympy?\n",
    "\n",
    "\n",
    "class MyTransformToSymPy(TransformToSymPyExpr):\n",
    "    def factorial2(self, tokens):\n",
    "        print(tokens)\n",
    "        return sympy.factorial2(tokens[0])\n",
    "\n",
    "parser = LarkLaTeXParser(grammar_file=\"modified.lark\", transformer=MyTransformToSymPy)\n",
    "\n",
    "\n",
    "a = parser.doparse(\"3!!\".replace(\"!!\", \"@\"))\n",
    "a"
   ]
  },
  {
   "cell_type": "code",
   "execution_count": null,
   "metadata": {},
   "outputs": [],
   "source": []
  },
  {
   "cell_type": "code",
   "execution_count": null,
   "metadata": {},
   "outputs": [],
   "source": [
    "type(a)"
   ]
  },
  {
   "cell_type": "code",
   "execution_count": null,
   "metadata": {},
   "outputs": [],
   "source": [
    "asdasdsad"
   ]
  },
  {
   "cell_type": "code",
   "execution_count": null,
   "metadata": {},
   "outputs": [],
   "source": []
  },
  {
   "cell_type": "code",
   "execution_count": null,
   "metadata": {},
   "outputs": [],
   "source": []
  },
  {
   "cell_type": "code",
   "execution_count": null,
   "metadata": {},
   "outputs": [],
   "source": []
  },
  {
   "cell_type": "code",
   "execution_count": null,
   "metadata": {},
   "outputs": [],
   "source": []
  },
  {
   "cell_type": "code",
   "execution_count": null,
   "metadata": {},
   "outputs": [],
   "source": [
    "import lark\n",
    "from pathlib import Path\n",
    "\n",
    "\n",
    "\n",
    "root = Path(\"/home/evan/Documents/kaggle/kaggle-aimo2/.venv/lib/python3.10/site-packages/sympy/parsing/latex/lark/grammar/\")\n",
    "\n",
    "\n",
    "with open(root / \"latex.lark\", \"r\") as f:\n",
    "    latex_grammar = f.read()\n",
    "\n",
    "parser = lark.Lark(\n",
    "    grammar=latex_grammar,\n",
    "    source_path='/home/evan/Documents/kaggle/kaggle-aimo2/.venv/lib/python3.10/site-packages/sympy/parsing/latex/lark/grammar/',\n",
    "    parser=\"earley\",\n",
    "    start=\"latex_string\",\n",
    "    lexer=\"auto\",\n",
    "    ambiguity=\"explicit\",\n",
    "    propagate_positions=False,\n",
    "    maybe_placeholders=False,\n",
    "    keep_all_tokens=True,\n",
    ")"
   ]
  },
  {
   "cell_type": "code",
   "execution_count": null,
   "metadata": {},
   "outputs": [],
   "source": [
    "from lark.load_grammar import load_grammar"
   ]
  },
  {
   "cell_type": "code",
   "execution_count": null,
   "metadata": {},
   "outputs": [],
   "source": [
    "load_grammar"
   ]
  },
  {
   "cell_type": "code",
   "execution_count": null,
   "metadata": {},
   "outputs": [],
   "source": []
  },
  {
   "cell_type": "code",
   "execution_count": null,
   "metadata": {},
   "outputs": [],
   "source": []
  },
  {
   "cell_type": "code",
   "execution_count": null,
   "metadata": {},
   "outputs": [],
   "source": []
  },
  {
   "cell_type": "code",
   "execution_count": null,
   "metadata": {},
   "outputs": [],
   "source": []
  }
 ],
 "metadata": {
  "kernelspec": {
   "display_name": ".venv",
   "language": "python",
   "name": "python3"
  },
  "language_info": {
   "codemirror_mode": {
    "name": "ipython",
    "version": 3
   },
   "file_extension": ".py",
   "mimetype": "text/x-python",
   "name": "python",
   "nbconvert_exporter": "python",
   "pygments_lexer": "ipython3",
   "version": "3.10.12"
  }
 },
 "nbformat": 4,
 "nbformat_minor": 2
}
