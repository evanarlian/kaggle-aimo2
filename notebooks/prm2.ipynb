{
 "cells": [
  {
   "cell_type": "code",
   "execution_count": 57,
   "metadata": {},
   "outputs": [],
   "source": [
    "from openai import OpenAI\n",
    "from transformers import AutoTokenizer\n",
    "import requests\n",
    "import httpx\n",
    "import numpy as np"
   ]
  },
  {
   "cell_type": "code",
   "execution_count": 18,
   "metadata": {},
   "outputs": [
    {
     "data": {
      "text/plain": [
       "Qwen2TokenizerFast(name_or_path='Qwen/Qwen2.5-Math-PRM-7B', vocab_size=151643, model_max_length=131072, is_fast=True, padding_side='right', truncation_side='right', special_tokens={'eos_token': '<|im_end|>', 'pad_token': '<|endoftext|>', 'additional_special_tokens': ['<|im_start|>', '<|im_end|>', '<R>', '<S>', '<X>', '<mask>', '<sep>', '<extra_0>']}, clean_up_tokenization_spaces=False, added_tokens_decoder={\n",
       "\t151643: AddedToken(\"<|endoftext|>\", rstrip=False, lstrip=False, single_word=False, normalized=False, special=True),\n",
       "\t151644: AddedToken(\"<|im_start|>\", rstrip=False, lstrip=False, single_word=False, normalized=False, special=True),\n",
       "\t151645: AddedToken(\"<|im_end|>\", rstrip=False, lstrip=False, single_word=False, normalized=False, special=True),\n",
       "\t151646: AddedToken(\"<R>\", rstrip=False, lstrip=False, single_word=False, normalized=False, special=True),\n",
       "\t151647: AddedToken(\"<S>\", rstrip=False, lstrip=False, single_word=False, normalized=False, special=True),\n",
       "\t151648: AddedToken(\"<X>\", rstrip=False, lstrip=False, single_word=False, normalized=False, special=True),\n",
       "\t151649: AddedToken(\"<mask>\", rstrip=False, lstrip=False, single_word=False, normalized=False, special=True),\n",
       "\t151650: AddedToken(\"<sep>\", rstrip=False, lstrip=False, single_word=False, normalized=False, special=True),\n",
       "\t151651: AddedToken(\"<extra_0>\", rstrip=False, lstrip=False, single_word=False, normalized=False, special=True),\n",
       "}\n",
       ")"
      ]
     },
     "execution_count": 18,
     "metadata": {},
     "output_type": "execute_result"
    }
   ],
   "source": [
    "client = OpenAI(base_url=\"http://localhost:8000/v1\", api_key=\"-\")\n",
    "client = OpenAI(base_url=\"http://64.181.228.72:8000/v1\", api_key=\"-\")\n",
    "tokenizer = AutoTokenizer.from_pretrained(\"Qwen/Qwen2.5-Math-PRM-7B\")\n",
    "tokenizer"
   ]
  },
  {
   "cell_type": "code",
   "execution_count": 54,
   "metadata": {},
   "outputs": [
    {
     "data": {
      "text/plain": [
       "\"<|im_start|>system\\nPlease reason step by step, and put your final answer within \\\\boxed{}.<|im_end|>\\n<|im_start|>user\\nSue lives in a fun neighborhood.  One weekend, the neighbors decided to play a prank on Sue.  On Friday morning, the neighbors placed 18 pink plastic flamingos out on Sue's front yard.  On Saturday morning, the neighbors took back one third of the flamingos, painted them white, and put these newly painted white flamingos back out on Sue's front yard.  Then, on Sunday morning, they added another 18 pink plastic flamingos to the collection. At noon on Sunday, how many more pink plastic flamingos were out than white plastic flamingos?<|im_end|>\\n<|im_start|>assistant\\nTo find out how many more pink plastic flamingos were out than white plastic flamingos at noon on Sunday, we can break down the problem into steps. First, on Friday, the neighbors start with 18 pink plastic flamingos.<extra_0>On Saturday, they take back one third of the flamingos. Since there were 18 flamingos, (1/3 \\\\times 18 = 6) flamingos are taken back. So, they have (18 - 6 = 12) flamingos left in their possession. Then, they paint these 6 flamingos white and put them back out on Sue's front yard. Now, Sue has the original 12 pink flamingos plus the 6 new white ones. Thus, by the end of Saturday, Sue has (12 + 6 = 18) pink flamingos and 6 white flamingos.<extra_0>On Sunday, the neighbors add another 18 pink plastic flamingos to Sue's front yard. By the end of Sunday morning, Sue has (18 + 18 = 36) pink flamingos and still 6 white flamingos.<extra_0>To find the difference, add the number of white flamingos from the number of pink flamingos: (36 + 6 = 42). Therefore, at noon on Sunday, there were 42 more pink plastic flamingos out than white plastic flamingos. The answer is (\\\\boxed{42}).<extra_0><|im_end|><|endoftext|>\""
      ]
     },
     "execution_count": 54,
     "metadata": {},
     "output_type": "execute_result"
    }
   ],
   "source": [
    "\n",
    "data = {\n",
    "    \"system\": \"Please reason step by step, and put your final answer within \\\\boxed{}.\",\n",
    "    \"query\": \"Sue lives in a fun neighborhood.  One weekend, the neighbors decided to play a prank on Sue.  On Friday morning, the neighbors placed 18 pink plastic flamingos out on Sue's front yard.  On Saturday morning, the neighbors took back one third of the flamingos, painted them white, and put these newly painted white flamingos back out on Sue's front yard.  Then, on Sunday morning, they added another 18 pink plastic flamingos to the collection. At noon on Sunday, how many more pink plastic flamingos were out than white plastic flamingos?\",\n",
    "    \"response\": [\n",
    "      \"To find out how many more pink plastic flamingos were out than white plastic flamingos at noon on Sunday, we can break down the problem into steps. First, on Friday, the neighbors start with 18 pink plastic flamingos.\",\n",
    "      \"On Saturday, they take back one third of the flamingos. Since there were 18 flamingos, (1/3 \\\\times 18 = 6) flamingos are taken back. So, they have (18 - 6 = 12) flamingos left in their possession. Then, they paint these 6 flamingos white and put them back out on Sue's front yard. Now, Sue has the original 12 pink flamingos plus the 6 new white ones. Thus, by the end of Saturday, Sue has (12 + 6 = 18) pink flamingos and 6 white flamingos.\",\n",
    "      \"On Sunday, the neighbors add another 18 pink plastic flamingos to Sue's front yard. By the end of Sunday morning, Sue has (18 + 18 = 36) pink flamingos and still 6 white flamingos.\",\n",
    "    #   \"To find the difference, subtract the number of white flamingos from the number of pink flamingos: (36 - 6 = 30). Therefore, at noon on Sunday, there were 30 more pink plastic flamingos out than white plastic flamingos. The answer is (\\\\boxed{30}).\"\n",
    "      \"To find the difference, add the number of white flamingos from the number of pink flamingos: (36 + 6 = 42). Therefore, at noon on Sunday, there were 42 more pink plastic flamingos out than white plastic flamingos. The answer is (\\\\boxed{42}).\"\n",
    "    ]\n",
    "}\n",
    "\n",
    "messages = [\n",
    "    {\"role\": \"system\", \"content\": data['system']},\n",
    "    {\"role\": \"user\", \"content\": data['query']},\n",
    "    {\"role\": \"assistant\", \"content\": \"<extra_0>\".join(data['response']) + \"<extra_0>\"},\n",
    "]\n",
    "conversation_str = tokenizer.apply_chat_template(\n",
    "    messages, \n",
    "    tokenize=False, \n",
    "    add_generation_prompt=False\n",
    ")\n",
    "conversation_str"
   ]
  },
  {
   "cell_type": "code",
   "execution_count": 23,
   "metadata": {},
   "outputs": [
    {
     "data": {
      "text/plain": [
       "Completion(id=None, choices=None, created=None, model=None, object='error', system_fingerprint=None, usage=None, message='The model does not support Completions API', type='BadRequestError', param=None, code=400)"
      ]
     },
     "execution_count": 23,
     "metadata": {},
     "output_type": "execute_result"
    }
   ],
   "source": [
    "client.completions.create(\n",
    "    model=\"Qwen/Qwen2.5-Math-PRM-7B\",\n",
    "    prompt=conversation_str,\n",
    ")"
   ]
  },
  {
   "cell_type": "code",
   "execution_count": null,
   "metadata": {},
   "outputs": [
    {
     "data": {
      "text/plain": [
       "[1.0, 0.1552734375, 0.97265625, 0.0047607421875]"
      ]
     },
     "execution_count": 71,
     "metadata": {},
     "output_type": "execute_result"
    }
   ],
   "source": [
    "async def fetch_pooling(conversation_str: str) -> list[float]:\n",
    "    data = {\n",
    "        \"model\": \"Qwen/Qwen2.5-Math-PRM-7B\",\n",
    "        \"input\": conversation_str,\n",
    "    }\n",
    "    async with httpx.AsyncClient() as client:\n",
    "        r = await client.post(\"http://64.181.228.72:8000/pooling\", json=data)\n",
    "        result = r.json()\n",
    "    process_rewards = [a[1] for a in result[\"data\"][0][\"data\"]]\n",
    "    return process_rewards\n",
    "\n",
    "\n",
    "await fetch_pooling(conversation_str)\n"
   ]
  },
  {
   "cell_type": "code",
   "execution_count": null,
   "metadata": {},
   "outputs": [
    {
     "data": {
      "text/plain": [
       "{'id': 'pool-c18cb8e6c2534e6e8ed95d0132690726',\n",
       " 'object': 'list',\n",
       " 'created': 1742913429,\n",
       " 'model': 'Qwen/Qwen2.5-Math-PRM-7B',\n",
       " 'data': [{'index': 0,\n",
       "   'object': 'pooling',\n",
       "   'data': [[0.0005035400390625, 1.0],\n",
       "    [0.84375, 0.1552734375],\n",
       "    [0.0255126953125, 0.97265625],\n",
       "    [0.99609375, 0.0047607421875]]}],\n",
       " 'usage': {'prompt_tokens': 454,\n",
       "  'total_tokens': 454,\n",
       "  'completion_tokens': 0,\n",
       "  'prompt_tokens_details': None}}"
      ]
     },
     "execution_count": 55,
     "metadata": {},
     "output_type": "execute_result"
    }
   ],
   "source": [
    "data = {\n",
    "    \"model\": \"Qwen/Qwen2.5-Math-PRM-7B\",\n",
    "    \"input\": conversation_str,\n",
    "}\n",
    "r = requests.post(\"http://64.181.228.72:8000/pooling\",json=data)\n",
    "r.json()"
   ]
  },
  {
   "cell_type": "code",
   "execution_count": null,
   "metadata": {},
   "outputs": [],
   "source": [
    " # [[1.0, 0.1904296875, 0.9765625, 1.0]]"
   ]
  }
 ],
 "metadata": {
  "kernelspec": {
   "display_name": ".venv",
   "language": "python",
   "name": "python3"
  },
  "language_info": {
   "codemirror_mode": {
    "name": "ipython",
    "version": 3
   },
   "file_extension": ".py",
   "mimetype": "text/x-python",
   "name": "python",
   "nbconvert_exporter": "python",
   "pygments_lexer": "ipython3",
   "version": "3.10.12"
  }
 },
 "nbformat": 4,
 "nbformat_minor": 2
}
